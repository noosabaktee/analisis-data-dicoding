{
  "nbformat": 4,
  "nbformat_minor": 0,
  "metadata": {
    "colab": {
      "provenance": []
    },
    "kernelspec": {
      "name": "python3",
      "display_name": "Python 3"
    },
    "language_info": {
      "name": "python"
    }
  },
  "cells": [
    {
      "cell_type": "markdown",
      "source": [
        "# Proyek Analisis Data: Nama dataset\n",
        "- Nama: Rama Nusa Bakti\n",
        "- Email: ramanusabakti03@gmail.com\n",
        "- Id Dicoding:"
      ],
      "metadata": {
        "id": "cP5zh7Ww85Fm"
      }
    },
    {
      "cell_type": "markdown",
      "source": [
        "## Menentukan Pertanyaan Bisnis"
      ],
      "metadata": {
        "id": "ggwOFmpI88dG"
      }
    },
    {
      "cell_type": "markdown",
      "source": [
        "- Penghasilan berdasarkan rentang waktu\n",
        "- Informasi tentang product dan yang lainnya"
      ],
      "metadata": {
        "id": "6irqmTtg8-IC"
      }
    },
    {
      "cell_type": "code",
      "source": [
        "!gdown \"1MsAjPM7oKtVfJL_wRp1qmCajtSG1mdcK\""
      ],
      "metadata": {
        "id": "xkSTO7RsENw5",
        "outputId": "2a049e55-ad6b-4968-eb01-27e726118324",
        "colab": {
          "base_uri": "https://localhost:8080/"
        }
      },
      "execution_count": 1,
      "outputs": [
        {
          "output_type": "stream",
          "name": "stdout",
          "text": [
            "Downloading...\n",
            "From: https://drive.google.com/uc?id=1MsAjPM7oKtVfJL_wRp1qmCajtSG1mdcK\n",
            "To: /content/E-commerce-public-dataset.zip\n",
            "100% 44.9M/44.9M [00:00<00:00, 48.9MB/s]\n"
          ]
        }
      ]
    },
    {
      "cell_type": "code",
      "source": [
        "import shutil,os\n",
        "\n",
        "shutil.unpack_archive(\"/content/E-commerce-public-dataset.zip\" , \"\")\n",
        "os.rename(\"E-Commerce Public Dataset\", \"data\")"
      ],
      "metadata": {
        "id": "CSIjtepOEQTu"
      },
      "execution_count": 2,
      "outputs": []
    },
    {
      "cell_type": "markdown",
      "source": [
        "## Menyiapkan semua library yang dibutuhkan"
      ],
      "metadata": {
        "id": "EueHsNk89AsY"
      }
    },
    {
      "cell_type": "code",
      "execution_count": 3,
      "metadata": {
        "id": "4cmWv4qc8xWu"
      },
      "outputs": [],
      "source": [
        "import pandas as pd\n",
        "import matplotlib.pyplot as plt\n",
        "import seaborn as sns\n"
      ]
    },
    {
      "cell_type": "markdown",
      "source": [
        "## Data Wrangling"
      ],
      "metadata": {
        "id": "7DwSpkkZ9BqV"
      }
    },
    {
      "cell_type": "markdown",
      "source": [
        "### Gathering Data"
      ],
      "metadata": {
        "id": "ZuJuLGxe9D9O"
      }
    },
    {
      "cell_type": "code",
      "source": [
        "customers = pd.read_csv(\"data/customers_dataset.csv\")\n",
        "geo = pd.read_csv(\"data/geolocation_dataset.csv\")\n",
        "orders = pd.read_csv(\"data/orders_dataset.csv\")\n",
        "order_items = pd.read_csv(\"data/order_items_dataset.csv\")\n",
        "order_payments = pd.read_csv(\"data/order_payments_dataset.csv\")\n",
        "order_reviews = pd.read_csv(\"data/order_reviews_dataset.csv\")\n",
        "products = pd.read_csv(\"data/products_dataset.csv\")\n",
        "product_cat = pd.read_csv(\"data/product_category_name_translation.csv\")\n",
        "sellers = pd.read_csv(\"data/sellers_dataset.csv\")\n",
        "\n",
        "table = [customers,geo,orders,order_items,order_items,order_payments,order_reviews,products,product_cat,sellers]\n",
        "table_name = [\"customers\",\"geo\",\"orders\",\"order_items\",\"order_items\",\"order_payments\",\"order_reviews\",\"products\",\"product_cat\",\"sellers\"]"
      ],
      "metadata": {
        "id": "Rg3wtvOr9DUm"
      },
      "execution_count": 6,
      "outputs": []
    },
    {
      "cell_type": "markdown",
      "source": [
        "### Assessing Data"
      ],
      "metadata": {
        "id": "BvZAfrSH9F2U"
      }
    },
    {
      "cell_type": "code",
      "source": [
        "duplicated_data = {}\n",
        "\n",
        "for i in range(len(table)-1):\n",
        "  duplicated_data[table_name[i]] = table[i].duplicated().sum()\n",
        "\n",
        "duplicated_data\n"
      ],
      "metadata": {
        "id": "fx7PaLsV9G8M",
        "outputId": "b72ecb16-91ab-493d-cd81-a89a3583d8b1",
        "colab": {
          "base_uri": "https://localhost:8080/"
        }
      },
      "execution_count": 7,
      "outputs": [
        {
          "output_type": "execute_result",
          "data": {
            "text/plain": [
              "{'customers': 0,\n",
              " 'geo': 261831,\n",
              " 'orders': 0,\n",
              " 'order_items': 0,\n",
              " 'order_payments': 0,\n",
              " 'order_reviews': 0,\n",
              " 'products': 0,\n",
              " 'product_cat': 0}"
            ]
          },
          "metadata": {},
          "execution_count": 7
        }
      ]
    },
    {
      "cell_type": "code",
      "source": [
        "empty_data = {}\n",
        "for i in range(len(table)-1):\n",
        "  empty_data[table_name[i].upper()] = dict(table[i].isna().sum())\n",
        "\n",
        "empty_data"
      ],
      "metadata": {
        "id": "qk3MqWI2DYgU",
        "outputId": "a06df183-08c2-411d-9ac8-1aae0f490123",
        "colab": {
          "base_uri": "https://localhost:8080/"
        }
      },
      "execution_count": 8,
      "outputs": [
        {
          "output_type": "execute_result",
          "data": {
            "text/plain": [
              "{'CUSTOMERS': {'customer_id': 0,\n",
              "  'customer_unique_id': 0,\n",
              "  'customer_zip_code_prefix': 0,\n",
              "  'customer_city': 0,\n",
              "  'customer_state': 0},\n",
              " 'GEO': {'geolocation_zip_code_prefix': 0,\n",
              "  'geolocation_lat': 0,\n",
              "  'geolocation_lng': 0,\n",
              "  'geolocation_city': 0,\n",
              "  'geolocation_state': 0},\n",
              " 'ORDERS': {'order_id': 0,\n",
              "  'customer_id': 0,\n",
              "  'order_status': 0,\n",
              "  'order_purchase_timestamp': 0,\n",
              "  'order_approved_at': 160,\n",
              "  'order_delivered_carrier_date': 1783,\n",
              "  'order_delivered_customer_date': 2965,\n",
              "  'order_estimated_delivery_date': 0},\n",
              " 'ORDER_ITEMS': {'order_id': 0,\n",
              "  'order_item_id': 0,\n",
              "  'product_id': 0,\n",
              "  'seller_id': 0,\n",
              "  'shipping_limit_date': 0,\n",
              "  'price': 0,\n",
              "  'freight_value': 0},\n",
              " 'ORDER_PAYMENTS': {'order_id': 0,\n",
              "  'payment_sequential': 0,\n",
              "  'payment_type': 0,\n",
              "  'payment_installments': 0,\n",
              "  'payment_value': 0},\n",
              " 'ORDER_REVIEWS': {'review_id': 0,\n",
              "  'order_id': 0,\n",
              "  'review_score': 0,\n",
              "  'review_comment_title': 87656,\n",
              "  'review_comment_message': 58247,\n",
              "  'review_creation_date': 0,\n",
              "  'review_answer_timestamp': 0},\n",
              " 'PRODUCTS': {'product_id': 0,\n",
              "  'product_category_name': 610,\n",
              "  'product_name_lenght': 610,\n",
              "  'product_description_lenght': 610,\n",
              "  'product_photos_qty': 610,\n",
              "  'product_weight_g': 2,\n",
              "  'product_length_cm': 2,\n",
              "  'product_height_cm': 2,\n",
              "  'product_width_cm': 2},\n",
              " 'PRODUCT_CAT': {'product_category_name': 0,\n",
              "  'product_category_name_english': 0}}"
            ]
          },
          "metadata": {},
          "execution_count": 8
        }
      ]
    },
    {
      "cell_type": "markdown",
      "source": [
        "### Cleaning Data"
      ],
      "metadata": {
        "id": "Uz5dgcJm9HW5"
      }
    },
    {
      "cell_type": "code",
      "source": [],
      "metadata": {
        "id": "CCszTdXD9Ivf"
      },
      "execution_count": 8,
      "outputs": []
    },
    {
      "cell_type": "markdown",
      "source": [
        "## Exploratory Data Analysis (EDA)"
      ],
      "metadata": {
        "id": "EyPJaCDm9KFb"
      }
    },
    {
      "cell_type": "markdown",
      "source": [
        "### Explore ..."
      ],
      "metadata": {
        "id": "hxgJ6qd69Mce"
      }
    },
    {
      "cell_type": "code",
      "source": [
        "indexData = products[products.product_weight_g.isna() == True].index\n",
        "# Satu product bernama bebes dan satu product tidak memiliki name\n",
        "products.drop(indexData , inplace=True)"
      ],
      "metadata": {
        "id": "Xo68yguo9LTl"
      },
      "execution_count": 9,
      "outputs": []
    },
    {
      "cell_type": "code",
      "source": [
        "datetime_column = [\"order_purchase_timestamp\",\"order_approved_at\",\"order_delivered_carrier_date\",\"order_delivered_customer_date\",\"order_estimated_delivery_date\"]\n",
        "for i in datetime_column:\n",
        "  orders[i] = pd.to_datetime(orders[i])\n",
        "\n",
        "order_items[\"shipping_limit_date\"] = pd.to_datetime(order_items[\"shipping_limit_date\"])\n"
      ],
      "metadata": {
        "id": "QJwkhFLDEveP"
      },
      "execution_count": 11,
      "outputs": []
    },
    {
      "cell_type": "code",
      "source": [
        "def impute_order_datetime(x,y):\n",
        "  # x = target\n",
        "  # y = patokan data yang membantu mencari selisih\n",
        "\n",
        "  # Kita ambil data yang mau dihitung selisihnya untuk dicari rata-ratanya\n",
        "  data = orders[[y,x]]\n",
        "  # Hapus data yang kosong karena tidak bisa dihitung selisihnya\n",
        "  data.dropna(inplace=True)\n",
        "\n",
        "  # Kita cari selisihnya dan buat kolom baru bernama \"time\"\n",
        "  time = data[x] - data[y]\n",
        "  time = time.apply(lambda x: x.total_seconds())\n",
        "  data[\"time\"] = time\n",
        "\n",
        "  # Cari rata-ratanya\n",
        "  mean = round(data.time.mean())\n",
        "  print(\"{} = {} detik / {} menit / {} jam / {} hari\".format(x,mean,mean/60,mean/3600,mean/86400))\n",
        "\n",
        "  # Data x yang kosong kita isi dengan data y +\n",
        "  for i, j in orders.iterrows():\n",
        "    if pd.isna(j[x]):\n",
        "      orders.at[i,x] = orders.at[i,y] + pd.to_timedelta(mean, unit='s')\n",
        "\n",
        "impute_order_datetime(\"order_approved_at\",\"order_purchase_timestamp\")\n",
        "impute_order_datetime(\"order_delivered_carrier_date\",\"order_approved_at\")\n",
        "impute_order_datetime(\"order_delivered_customer_date\",\"order_delivered_carrier_date\")"
      ],
      "metadata": {
        "id": "fPaJ4mexDg7h",
        "outputId": "ec9ecbf6-08f1-4bf0-baaa-a3bc1736f7b7",
        "colab": {
          "base_uri": "https://localhost:8080/"
        }
      },
      "execution_count": 12,
      "outputs": [
        {
          "output_type": "stream",
          "name": "stderr",
          "text": [
            "<ipython-input-12-ba79b478c0b0>:8: SettingWithCopyWarning: \n",
            "A value is trying to be set on a copy of a slice from a DataFrame\n",
            "\n",
            "See the caveats in the documentation: https://pandas.pydata.org/pandas-docs/stable/user_guide/indexing.html#returning-a-view-versus-a-copy\n",
            "  data.dropna(inplace=True)\n",
            "<ipython-input-12-ba79b478c0b0>:13: SettingWithCopyWarning: \n",
            "A value is trying to be set on a copy of a slice from a DataFrame.\n",
            "Try using .loc[row_indexer,col_indexer] = value instead\n",
            "\n",
            "See the caveats in the documentation: https://pandas.pydata.org/pandas-docs/stable/user_guide/indexing.html#returning-a-view-versus-a-copy\n",
            "  data[\"time\"] = time\n"
          ]
        },
        {
          "output_type": "stream",
          "name": "stdout",
          "text": [
            "order_approved_at = 37509 detik / 625.15 menit / 10.419166666666667 jam / 0.4341319444444444 hari\n"
          ]
        },
        {
          "output_type": "stream",
          "name": "stderr",
          "text": [
            "<ipython-input-12-ba79b478c0b0>:8: SettingWithCopyWarning: \n",
            "A value is trying to be set on a copy of a slice from a DataFrame\n",
            "\n",
            "See the caveats in the documentation: https://pandas.pydata.org/pandas-docs/stable/user_guide/indexing.html#returning-a-view-versus-a-copy\n",
            "  data.dropna(inplace=True)\n",
            "<ipython-input-12-ba79b478c0b0>:13: SettingWithCopyWarning: \n",
            "A value is trying to be set on a copy of a slice from a DataFrame.\n",
            "Try using .loc[row_indexer,col_indexer] = value instead\n",
            "\n",
            "See the caveats in the documentation: https://pandas.pydata.org/pandas-docs/stable/user_guide/indexing.html#returning-a-view-versus-a-copy\n",
            "  data[\"time\"] = time\n"
          ]
        },
        {
          "output_type": "stream",
          "name": "stdout",
          "text": [
            "order_delivered_carrier_date = 242374 detik / 4039.5666666666666 menit / 67.32611111111112 jam / 2.8052546296296295 hari\n"
          ]
        },
        {
          "output_type": "stream",
          "name": "stderr",
          "text": [
            "<ipython-input-12-ba79b478c0b0>:8: SettingWithCopyWarning: \n",
            "A value is trying to be set on a copy of a slice from a DataFrame\n",
            "\n",
            "See the caveats in the documentation: https://pandas.pydata.org/pandas-docs/stable/user_guide/indexing.html#returning-a-view-versus-a-copy\n",
            "  data.dropna(inplace=True)\n",
            "<ipython-input-12-ba79b478c0b0>:13: SettingWithCopyWarning: \n",
            "A value is trying to be set on a copy of a slice from a DataFrame.\n",
            "Try using .loc[row_indexer,col_indexer] = value instead\n",
            "\n",
            "See the caveats in the documentation: https://pandas.pydata.org/pandas-docs/stable/user_guide/indexing.html#returning-a-view-versus-a-copy\n",
            "  data[\"time\"] = time\n"
          ]
        },
        {
          "output_type": "stream",
          "name": "stdout",
          "text": [
            "order_delivered_customer_date = 806195 detik / 13436.583333333334 menit / 223.94305555555556 jam / 9.330960648148148 hari\n"
          ]
        }
      ]
    },
    {
      "cell_type": "code",
      "source": [
        "products[\"product_category_name\"].fillna(\"unknown\", inplace = True)\n",
        "products[\"product_name_lenght\"].fillna(round(products[\"product_name_lenght\"].mean()), inplace = True)\n",
        "products[\"product_description_lenght\"].fillna(round(products[\"product_description_lenght\"].mean()), inplace = True)\n",
        "products[\"product_photos_qty\"].fillna(products[\"product_photos_qty\"].mode()[0], inplace = True)\n"
      ],
      "metadata": {
        "id": "zoZbSe4bDnsF"
      },
      "execution_count": 13,
      "outputs": []
    },
    {
      "cell_type": "markdown",
      "source": [
        "## Visualization & Explanatory Analysis"
      ],
      "metadata": {
        "id": "SCNmtOLp9OKB"
      }
    },
    {
      "cell_type": "markdown",
      "source": [
        "### Pendapatan berdasarkan rentang waktu:"
      ],
      "metadata": {
        "id": "SG59_Fbj9Qr6"
      }
    },
    {
      "cell_type": "code",
      "source": [
        "def revenue(start_date,end_date):\n",
        "  df_orders = orders.query(\"order_status != 'canceled' & order_status != 'unavailable'\")\n",
        "  df_orders = df_orders.merge(order_items,on=\"order_id\")\n",
        "  df_orders[\"order_purchase_timestamp\"] = pd.to_datetime(df_orders[\"order_purchase_timestamp\"])\n",
        "  daily_orders_df = df_orders.resample(rule=\"D\", on='order_purchase_timestamp').agg({\n",
        "          \"order_id\": \"nunique\",\n",
        "          \"price\": \"sum\"\n",
        "      }).reset_index()\n",
        "  daily_orders_df.columns = [\"date\",\"order\",\"revenue\"]\n",
        "  daily_orders_df = daily_orders_df.sort_values(by=\"date\")\n",
        "  daily_orders_df = daily_orders_df[(daily_orders_df[\"date\"] >= str(start_date)) &\n",
        "                    (daily_orders_df[\"date\"] <= str(end_date))]\n",
        "  daily_orders_df.reset_index(drop=True,inplace=True)\n",
        "  return daily_orders_df\n",
        "\n",
        "start_date = pd.to_datetime(\"2016/09/04\")\n",
        "end_date = pd.to_datetime(\"2018/10/17\")\n",
        "data_revenue = revenue(start_date,end_date)\n",
        "fig, ax = plt.subplots(figsize=(15, 5))\n",
        "ax.plot(data_revenue[\"date\"], data_revenue[\"order\"], marker='o', linewidth=2)"
      ],
      "metadata": {
        "id": "dtRoaxqd9PdU",
        "outputId": "618f3449-7a89-45ed-efab-85391380ff5c",
        "colab": {
          "base_uri": "https://localhost:8080/",
          "height": 462
        }
      },
      "execution_count": 15,
      "outputs": [
        {
          "output_type": "execute_result",
          "data": {
            "text/plain": [
              "[<matplotlib.lines.Line2D at 0x7cba0e254880>]"
            ]
          },
          "metadata": {},
          "execution_count": 15
        },
        {
          "output_type": "display_data",
          "data": {
            "text/plain": [
              "<Figure size 1500x500 with 1 Axes>"
            ],
            "image/png": "[encoded data removed]"
          },
          "metadata": {}
        }
      ]
    },
    {
      "cell_type": "markdown",
      "source": [
        "### Informasi tentang produk dan yang lainnya:"
      ],
      "metadata": {
        "id": "F2Bo_ypQ9RfH"
      }
    },
    {
      "cell_type": "code",
      "source": [
        "def product_revenue(asc):\n",
        "  df_revenue = order_items.merge(products,on=\"product_id\")\n",
        "  df_revenue = df_revenue[[\"shipping_limit_date\",\"product_id\",\"price\",\"product_category_name\"]]\n",
        "  df_revenue = df_revenue.groupby(\"product_category_name\").price.sum().reset_index()\n",
        "  df_revenue = df_revenue.sort_values(by=\"price\",ascending=asc)\n",
        "  df_revenue.columns = [\"category\",\"revenue\"]\n",
        "  df_revenue.reset_index(drop=True,inplace=True)\n",
        "  return df_revenue\n",
        "\n",
        "product_rev = product_revenue(False)\n",
        "fig, ax = plt.subplots(figsize=(10, 5))\n",
        "colors = [\"#90CAF9\", \"#D3D3D3\", \"#D3D3D3\", \"#D3D3D3\", \"#D3D3D3\"]\n",
        "sns.barplot(x=\"revenue\", y=\"category\", data=product_rev.head(),\n",
        "            label=\"Total\", palette=colors)"
      ],
      "metadata": {
        "id": "jkO5kTJq9S1Y",
        "outputId": "efc291dd-3a51-4ab3-e547-5c7d88d82b2a",
        "colab": {
          "base_uri": "https://localhost:8080/",
          "height": 482
        }
      },
      "execution_count": 16,
      "outputs": [
        {
          "output_type": "execute_result",
          "data": {
            "text/plain": [
              "<Axes: xlabel='revenue', ylabel='category'>"
            ]
          },
          "metadata": {},
          "execution_count": 16
        },
        {
          "output_type": "display_data",
          "data": {
            "text/plain": [
              "<Figure size 1000x500 with 1 Axes>"
            ],
            "image/png": "[encoded data removed]"
          },
          "metadata": {}
        }
      ]
    },
    {
      "cell_type": "code",
      "source": [
        "def order(asc):\n",
        "    highest = order_payments.merge(orders,on=\"order_id\").reset_index()\n",
        "    # kondisi terhadap kolom order_purchase_timestamp\n",
        "    # highest = highest[highest.order_purchase_timestamp >= ??]\n",
        "    highest = highest.sort_values(by=\"payment_value\",ascending=asc)[[\"order_purchase_timestamp\",\"payment_value\"]]\n",
        "    highest.columns = [\"date\",\"value\"]\n",
        "    highest.reset_index(drop=True,inplace=True)\n",
        "    return highest\n",
        "\n",
        "order(False)"
      ],
      "metadata": {
        "id": "oYo-vQZfEKPv",
        "outputId": "3d934c84-07b8-4eb8-e5dd-dcd771810507",
        "colab": {
          "base_uri": "https://localhost:8080/",
          "height": 424
        }
      },
      "execution_count": 17,
      "outputs": [
        {
          "output_type": "execute_result",
          "data": {
            "text/plain": [
              "                      date     value\n",
              "0      2017-09-29 15:24:52  13664.08\n",
              "1      2018-07-15 14:49:44   7274.88\n",
              "2      2017-02-12 20:37:36   6929.31\n",
              "3      2018-07-25 18:10:17   6922.21\n",
              "4      2017-05-24 18:14:34   6726.66\n",
              "...                    ...       ...\n",
              "103881 2017-04-20 12:45:34      0.00\n",
              "103882 2017-10-26 23:51:35      0.00\n",
              "103883 2018-01-24 23:24:14      0.00\n",
              "103884 2018-09-03 14:14:25      0.00\n",
              "103885 2018-08-28 20:05:14      0.00\n",
              "\n",
              "[103886 rows x 2 columns]"
            ],
            "text/html": [
              "\n",
              "  <div id=\"df-ee3ef164-b302-422e-932f-cc3c4129b74e\" class=\"colab-df-container\">\n",
              "    <div>\n",
              "<style scoped>\n",
              "    .dataframe tbody tr th:only-of-type {\n",
              "        vertical-align: middle;\n",
              "    }\n",
              "\n",
              "    .dataframe tbody tr th {\n",
              "        vertical-align: top;\n",
              "    }\n",
              "\n",
              "    .dataframe thead th {\n",
              "        text-align: right;\n",
              "    }\n",
              "</style>\n",
              "<table border=\"1\" class=\"dataframe\">\n",
              "  <thead>\n",
              "    <tr style=\"text-align: right;\">\n",
              "      <th></th>\n",
              "      <th>date</th>\n",
              "      <th>value</th>\n",
              "    </tr>\n",
              "  </thead>\n",
              "  <tbody>\n",
              "    <tr>\n",
              "      <th>0</th>\n",
              "      <td>2017-09-29 15:24:52</td>\n",
              "      <td>13664.08</td>\n",
              "    </tr>\n",
              "    <tr>\n",
              "      <th>1</th>\n",
              "      <td>2018-07-15 14:49:44</td>\n",
              "      <td>7274.88</td>\n",
              "    </tr>\n",
              "    <tr>\n",
              "      <th>2</th>\n",
              "      <td>2017-02-12 20:37:36</td>\n",
              "      <td>6929.31</td>\n",
              "    </tr>\n",
              "    <tr>\n",
              "      <th>3</th>\n",
              "      <td>2018-07-25 18:10:17</td>\n",
              "      <td>6922.21</td>\n",
              "    </tr>\n",
              "    <tr>\n",
              "      <th>4</th>\n",
              "      <td>2017-05-24 18:14:34</td>\n",
              "      <td>6726.66</td>\n",
              "    </tr>\n",
              "    <tr>\n",
              "      <th>...</th>\n",
              "      <td>...</td>\n",
              "      <td>...</td>\n",
              "    </tr>\n",
              "    <tr>\n",
              "      <th>103881</th>\n",
              "      <td>2017-04-20 12:45:34</td>\n",
              "      <td>0.00</td>\n",
              "    </tr>\n",
              "    <tr>\n",
              "      <th>103882</th>\n",
              "      <td>2017-10-26 23:51:35</td>\n",
              "      <td>0.00</td>\n",
              "    </tr>\n",
              "    <tr>\n",
              "      <th>103883</th>\n",
              "      <td>2018-01-24 23:24:14</td>\n",
              "      <td>0.00</td>\n",
              "    </tr>\n",
              "    <tr>\n",
              "      <th>103884</th>\n",
              "      <td>2018-09-03 14:14:25</td>\n",
              "      <td>0.00</td>\n",
              "    </tr>\n",
              "    <tr>\n",
              "      <th>103885</th>\n",
              "      <td>2018-08-28 20:05:14</td>\n",
              "      <td>0.00</td>\n",
              "    </tr>\n",
              "  </tbody>\n",
              "</table>\n",
              "<p>103886 rows × 2 columns</p>\n",
              "</div>\n",
              "    <div class=\"colab-df-buttons\">\n",
              "\n",
              "  <div class=\"colab-df-container\">\n",
              "    <button class=\"colab-df-convert\" onclick=\"convertToInteractive('df-ee3ef164-b302-422e-932f-cc3c4129b74e')\"\n",
              "            title=\"Convert this dataframe to an interactive table.\"\n",
              "            style=\"display:none;\">\n",
              "\n",
              "  <svg xmlns=\"http://www.w3.org/2000/svg\" height=\"24px\" viewBox=\"0 -960 960 960\">\n",
              "    <path d=\"M120-120v-720h720v720H120Zm60-500h600v-160H180v160Zm220 220h160v-160H400v160Zm0 220h160v-160H400v160ZM180-400h160v-160H180v160Zm440 0h160v-160H620v160ZM180-180h160v-160H180v160Zm440 0h160v-160H620v160Z\"/>\n",
              "  </svg>\n",
              "    </button>\n",
              "\n",
              "  <style>\n",
              "    .colab-df-container {\n",
              "      display:flex;\n",
              "      gap: 12px;\n",
              "    }\n",
              "\n",
              "    .colab-df-convert {\n",
              "      background-color: #E8F0FE;\n",
              "      border: none;\n",
              "      border-radius: 50%;\n",
              "      cursor: pointer;\n",
              "      display: none;\n",
              "      fill: #1967D2;\n",
              "      height: 32px;\n",
              "      padding: 0 0 0 0;\n",
              "      width: 32px;\n",
              "    }\n",
              "\n",
              "    .colab-df-convert:hover {\n",
              "      background-color: #E2EBFA;\n",
              "      box-shadow: 0px 1px 2px rgba(60, 64, 67, 0.3), 0px 1px 3px 1px rgba(60, 64, 67, 0.15);\n",
              "      fill: #174EA6;\n",
              "    }\n",
              "\n",
              "    .colab-df-buttons div {\n",
              "      margin-bottom: 4px;\n",
              "    }\n",
              "\n",
              "    [theme=dark] .colab-df-convert {\n",
              "      background-color: #3B4455;\n",
              "      fill: #D2E3FC;\n",
              "    }\n",
              "\n",
              "    [theme=dark] .colab-df-convert:hover {\n",
              "      background-color: #434B5C;\n",
              "      box-shadow: 0px 1px 3px 1px rgba(0, 0, 0, 0.15);\n",
              "      filter: drop-shadow(0px 1px 2px rgba(0, 0, 0, 0.3));\n",
              "      fill: #FFFFFF;\n",
              "    }\n",
              "  </style>\n",
              "\n",
              "    <script>\n",
              "      const buttonEl =\n",
              "        document.querySelector('#df-ee3ef164-b302-422e-932f-cc3c4129b74e button.colab-df-convert');\n",
              "      buttonEl.style.display =\n",
              "        google.colab.kernel.accessAllowed ? 'block' : 'none';\n",
              "\n",
              "      async function convertToInteractive(key) {\n",
              "        const element = document.querySelector('#df-ee3ef164-b302-422e-932f-cc3c4129b74e');\n",
              "        const dataTable =\n",
              "          await google.colab.kernel.invokeFunction('convertToInteractive',\n",
              "                                                    [key], {});\n",
              "        if (!dataTable) return;\n",
              "\n",
              "        const docLinkHtml = 'Like what you see? Visit the ' +\n",
              "          '<a target=\"_blank\" href=https://colab.research.google.com/notebooks/data_table.ipynb>data table notebook</a>'\n",
              "          + ' to learn more about interactive tables.';\n",
              "        element.innerHTML = '';\n",
              "        dataTable['output_type'] = 'display_data';\n",
              "        await google.colab.output.renderOutput(dataTable, element);\n",
              "        const docLink = document.createElement('div');\n",
              "        docLink.innerHTML = docLinkHtml;\n",
              "        element.appendChild(docLink);\n",
              "      }\n",
              "    </script>\n",
              "  </div>\n",
              "\n",
              "\n",
              "<div id=\"df-c171c17f-73b7-4b0d-b883-290af27696a3\">\n",
              "  <button class=\"colab-df-quickchart\" onclick=\"quickchart('df-c171c17f-73b7-4b0d-b883-290af27696a3')\"\n",
              "            title=\"Suggest charts.\"\n",
              "            style=\"display:none;\">\n",
              "\n",
              "<svg xmlns=\"http://www.w3.org/2000/svg\" height=\"24px\"viewBox=\"0 0 24 24\"\n",
              "     width=\"24px\">\n",
              "    <g>\n",
              "        <path d=\"M19 3H5c-1.1 0-2 .9-2 2v14c0 1.1.9 2 2 2h14c1.1 0 2-.9 2-2V5c0-1.1-.9-2-2-2zM9 17H7v-7h2v7zm4 0h-2V7h2v10zm4 0h-2v-4h2v4z\"/>\n",
              "    </g>\n",
              "</svg>\n",
              "  </button>\n",
              "\n",
              "<style>\n",
              "  .colab-df-quickchart {\n",
              "      --bg-color: #E8F0FE;\n",
              "      --fill-color: #1967D2;\n",
              "      --hover-bg-color: #E2EBFA;\n",
              "      --hover-fill-color: #174EA6;\n",
              "      --disabled-fill-color: #AAA;\n",
              "      --disabled-bg-color: #DDD;\n",
              "  }\n",
              "\n",
              "  [theme=dark] .colab-df-quickchart {\n",
              "      --bg-color: #3B4455;\n",
              "      --fill-color: #D2E3FC;\n",
              "      --hover-bg-color: #434B5C;\n",
              "      --hover-fill-color: #FFFFFF;\n",
              "      --disabled-bg-color: #3B4455;\n",
              "      --disabled-fill-color: #666;\n",
              "  }\n",
              "\n",
              "  .colab-df-quickchart {\n",
              "    background-color: var(--bg-color);\n",
              "    border: none;\n",
              "    border-radius: 50%;\n",
              "    cursor: pointer;\n",
              "    display: none;\n",
              "    fill: var(--fill-color);\n",
              "    height: 32px;\n",
              "    padding: 0;\n",
              "    width: 32px;\n",
              "  }\n",
              "\n",
              "  .colab-df-quickchart:hover {\n",
              "    background-color: var(--hover-bg-color);\n",
              "    box-shadow: 0 1px 2px rgba(60, 64, 67, 0.3), 0 1px 3px 1px rgba(60, 64, 67, 0.15);\n",
              "    fill: var(--button-hover-fill-color);\n",
              "  }\n",
              "\n",
              "  .colab-df-quickchart-complete:disabled,\n",
              "  .colab-df-quickchart-complete:disabled:hover {\n",
              "    background-color: var(--disabled-bg-color);\n",
              "    fill: var(--disabled-fill-color);\n",
              "    box-shadow: none;\n",
              "  }\n",
              "\n",
              "  .colab-df-spinner {\n",
              "    border: 2px solid var(--fill-color);\n",
              "    border-color: transparent;\n",
              "    border-bottom-color: var(--fill-color);\n",
              "    animation:\n",
              "      spin 1s steps(1) infinite;\n",
              "  }\n",
              "\n",
              "  @keyframes spin {\n",
              "    0% {\n",
              "      border-color: transparent;\n",
              "      border-bottom-color: var(--fill-color);\n",
              "      border-left-color: var(--fill-color);\n",
              "    }\n",
              "    20% {\n",
              "      border-color: transparent;\n",
              "      border-left-color: var(--fill-color);\n",
              "      border-top-color: var(--fill-color);\n",
              "    }\n",
              "    30% {\n",
              "      border-color: transparent;\n",
              "      border-left-color: var(--fill-color);\n",
              "      border-top-color: var(--fill-color);\n",
              "      border-right-color: var(--fill-color);\n",
              "    }\n",
              "    40% {\n",
              "      border-color: transparent;\n",
              "      border-right-color: var(--fill-color);\n",
              "      border-top-color: var(--fill-color);\n",
              "    }\n",
              "    60% {\n",
              "      border-color: transparent;\n",
              "      border-right-color: var(--fill-color);\n",
              "    }\n",
              "    80% {\n",
              "      border-color: transparent;\n",
              "      border-right-color: var(--fill-color);\n",
              "      border-bottom-color: var(--fill-color);\n",
              "    }\n",
              "    90% {\n",
              "      border-color: transparent;\n",
              "      border-bottom-color: var(--fill-color);\n",
              "    }\n",
              "  }\n",
              "</style>\n",
              "\n",
              "  <script>\n",
              "    async function quickchart(key) {\n",
              "      const quickchartButtonEl =\n",
              "        document.querySelector('#' + key + ' button');\n",
              "      quickchartButtonEl.disabled = true;  // To prevent multiple clicks.\n",
              "      quickchartButtonEl.classList.add('colab-df-spinner');\n",
              "      try {\n",
              "        const charts = await google.colab.kernel.invokeFunction(\n",
              "            'suggestCharts', [key], {});\n",
              "      } catch (error) {\n",
              "        console.error('Error during call to suggestCharts:', error);\n",
              "      }\n",
              "      quickchartButtonEl.classList.remove('colab-df-spinner');\n",
              "      quickchartButtonEl.classList.add('colab-df-quickchart-complete');\n",
              "    }\n",
              "    (() => {\n",
              "      let quickchartButtonEl =\n",
              "        document.querySelector('#df-c171c17f-73b7-4b0d-b883-290af27696a3 button');\n",
              "      quickchartButtonEl.style.display =\n",
              "        google.colab.kernel.accessAllowed ? 'block' : 'none';\n",
              "    })();\n",
              "  </script>\n",
              "</div>\n",
              "    </div>\n",
              "  </div>\n"
            ]
          },
          "metadata": {},
          "execution_count": 17
        }
      ]
    },
    {
      "cell_type": "code",
      "source": [
        "def payment_type():\n",
        "  method = order_payments.merge(orders,on=\"order_id\")[[\"order_id\",\"payment_type\",\"order_purchase_timestamp\"]]\n",
        "  # Gunakan kondisi terhadap kolom order_purchase_timestamp\n",
        "  # method = method[method.order_purchase_timestamp >= ??]\n",
        "  method = order_payments.groupby(\"payment_type\").order_id.nunique().reset_index()\n",
        "  method.columns = [\"method\",\"total\"]\n",
        "  method = method.sort_values(by=\"total\",ascending=False)\n",
        "  method.reset_index(drop=True,inplace=True)\n",
        "  return method\n",
        "\n",
        "method = payment_type()\n",
        "fig, ax = plt.subplots(figsize=(5, 5))\n",
        "palette_color = sns.color_palette('bright')\n",
        "ax.pie(method.total, labels=method.method, colors=palette_color, explode=method.total/1000000, autopct='%.0f%%')"
      ],
      "metadata": {
        "id": "0Oz2BHR4Fmhv",
        "outputId": "653ebeac-9973-4d34-eea5-a52af7f87c8e",
        "colab": {
          "base_uri": "https://localhost:8080/",
          "height": 682
        }
      },
      "execution_count": 18,
      "outputs": [
        {
          "output_type": "execute_result",
          "data": {
            "text/plain": [
              "([<matplotlib.patches.Wedge at 0x7cba05e488b0>,\n",
              "  <matplotlib.patches.Wedge at 0x7cba05e48850>,\n",
              "  <matplotlib.patches.Wedge at 0x7cba05e49660>,\n",
              "  <matplotlib.patches.Wedge at 0x7cba05e49cf0>,\n",
              "  <matplotlib.patches.Wedge at 0x7cba05e4a380>],\n",
              " [Text(-0.8380729510969203, 0.8257104478354985, 'credit_card'),\n",
              "  Text(0.6561700443277138, -0.90739025759756, 'boleto'),\n",
              "  Text(1.078676408125447, -0.2344724984077758, 'voucher'),\n",
              "  Text(1.1002911599548018, -0.05218522884224389, 'debit_card'),\n",
              "  Text(1.100002995268727, -0.00010202366949807416, 'not_defined')],\n",
              " [Text(-0.4819023648703762, 0.47479377181818505, '75%'),\n",
              "  Text(0.3631804836947194, -0.5022271825770381, '19%'),\n",
              "  Text(0.5900861226535477, -0.12826735285216675, '4%'),\n",
              "  Text(0.60085258011171, -0.028497574582777085, '2%'),\n",
              "  Text(0.6000029974192996, -5.564940074695522e-05, '0%')])"
            ]
          },
          "metadata": {},
          "execution_count": 18
        },
        {
          "output_type": "display_data",
          "data": {
            "text/plain": [
              "<Figure size 500x500 with 1 Axes>"
            ],
            "image/png": "[encoded data removed]"
          },
          "metadata": {}
        }
      ]
    },
    {
      "cell_type": "markdown",
      "source": [
        "## Conclusion"
      ],
      "metadata": {
        "id": "J2CnXYGT9Tc2"
      }
    },
    {
      "cell_type": "markdown",
      "source": [
        "- Saat ini penjualan cenderung menurun\n",
        "- barang yang menghasilkan pendapatan terbesar adalah beleza_saude, order terbesar yang pernah dilakukan adalah senilai 13664.08 Real Brasil, metode pembayaran yang paling dilakukan adalah credit_card"
      ],
      "metadata": {
        "id": "f73FBkLw9V8C"
      }
    }
  ]
}